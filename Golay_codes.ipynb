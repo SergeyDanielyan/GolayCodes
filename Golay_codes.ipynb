{
  "nbformat": 4,
  "nbformat_minor": 0,
  "metadata": {
    "colab": {
      "provenance": []
    },
    "kernelspec": {
      "name": "python3",
      "display_name": "Python 3"
    },
    "language_info": {
      "name": "python"
    }
  },
  "cells": [
    {
      "cell_type": "markdown",
      "source": [
        "# **Вывод минимальных расстояний для бинарного и тернарного кодов Голея**\n",
        "\n"
      ],
      "metadata": {
        "id": "3P1ZWTV6rSN2"
      }
    },
    {
      "cell_type": "code",
      "source": [
        "import sympy as sp\n",
        "from sympy import Matrix"
      ],
      "metadata": {
        "id": "rGvpCczf5wCk"
      },
      "execution_count": 57,
      "outputs": []
    },
    {
      "cell_type": "markdown",
      "source": [
        "Создадим матрицы, являющиеся образующими для кодов Голея:"
      ],
      "metadata": {
        "id": "g1GmKWOu5wRQ"
      }
    },
    {
      "cell_type": "code",
      "source": [
        "binary_golay_code = Matrix([[1,0,1,0,1,1,1,0,0,0,1,1,0,0,0,0,0,0,0,0,0,0,0],\n",
        "                            [0,1,0,1,0,1,1,1,0,0,0,1,1,0,0,0,0,0,0,0,0,0,0],\n",
        "                            [0,0,1,0,1,0,1,1,1,0,0,0,1,1,0,0,0,0,0,0,0,0,0],\n",
        "                            [0,0,0,1,0,1,0,1,1,1,0,0,0,1,1,0,0,0,0,0,0,0,0],\n",
        "                            [0,0,0,0,1,0,1,0,1,1,1,0,0,0,1,1,0,0,0,0,0,0,0],\n",
        "                            [0,0,0,0,0,1,0,1,0,1,1,1,0,0,0,1,1,0,0,0,0,0,0],\n",
        "                            [0,0,0,0,0,0,1,0,1,0,1,1,1,0,0,0,1,1,0,0,0,0,0],\n",
        "                            [0,0,0,0,0,0,0,1,0,1,0,1,1,1,0,0,0,1,1,0,0,0,0],\n",
        "                            [0,0,0,0,0,0,0,0,1,0,1,0,1,1,1,0,0,0,1,1,0,0,0],\n",
        "                            [0,0,0,0,0,0,0,0,0,1,0,1,0,1,1,1,0,0,0,1,1,0,0],\n",
        "                            [0,0,0,0,0,0,0,0,0,0,1,0,1,0,1,1,1,0,0,0,1,1,0],\n",
        "                            [0,0,0,0,0,0,0,0,0,0,0,1,0,1,0,1,1,1,0,0,0,1,1]])\n",
        "ternary_golay_code = Matrix([[1, 0, 2, 2, 1, 1, 0, 0, 0, 0, 0],\n",
        "                             [0, 1, 0, 2, 2, 1, 1, 0, 0, 0, 0],\n",
        "                             [0, 0, 1, 0, 2, 2, 1, 1, 0, 0, 0],\n",
        "                             [0, 0, 0, 1, 0, 2, 2, 1, 1, 0, 0],\n",
        "                             [0, 0, 0, 0, 1, 0, 2, 2, 1, 1, 0],\n",
        "                             [0, 0, 0, 0, 0, 1, 0, 2, 2, 1, 1]])\n",
        "display(binary_golay_code, ternary_golay_code)"
      ],
      "metadata": {
        "colab": {
          "base_uri": "https://localhost:8080/",
          "height": 383
        },
        "id": "YGRu_qJB57qV",
        "outputId": "c5adf49e-a18e-419a-8203-91d979b62804"
      },
      "execution_count": 69,
      "outputs": [
        {
          "output_type": "display_data",
          "data": {
            "text/plain": [
              "Matrix([\n",
              "[1, 0, 1, 0, 1, 1, 1, 0, 0, 0, 1, 1, 0, 0, 0, 0, 0, 0, 0, 0, 0, 0, 0],\n",
              "[0, 1, 0, 1, 0, 1, 1, 1, 0, 0, 0, 1, 1, 0, 0, 0, 0, 0, 0, 0, 0, 0, 0],\n",
              "[0, 0, 1, 0, 1, 0, 1, 1, 1, 0, 0, 0, 1, 1, 0, 0, 0, 0, 0, 0, 0, 0, 0],\n",
              "[0, 0, 0, 1, 0, 1, 0, 1, 1, 1, 0, 0, 0, 1, 1, 0, 0, 0, 0, 0, 0, 0, 0],\n",
              "[0, 0, 0, 0, 1, 0, 1, 0, 1, 1, 1, 0, 0, 0, 1, 1, 0, 0, 0, 0, 0, 0, 0],\n",
              "[0, 0, 0, 0, 0, 1, 0, 1, 0, 1, 1, 1, 0, 0, 0, 1, 1, 0, 0, 0, 0, 0, 0],\n",
              "[0, 0, 0, 0, 0, 0, 1, 0, 1, 0, 1, 1, 1, 0, 0, 0, 1, 1, 0, 0, 0, 0, 0],\n",
              "[0, 0, 0, 0, 0, 0, 0, 1, 0, 1, 0, 1, 1, 1, 0, 0, 0, 1, 1, 0, 0, 0, 0],\n",
              "[0, 0, 0, 0, 0, 0, 0, 0, 1, 0, 1, 0, 1, 1, 1, 0, 0, 0, 1, 1, 0, 0, 0],\n",
              "[0, 0, 0, 0, 0, 0, 0, 0, 0, 1, 0, 1, 0, 1, 1, 1, 0, 0, 0, 1, 1, 0, 0],\n",
              "[0, 0, 0, 0, 0, 0, 0, 0, 0, 0, 1, 0, 1, 0, 1, 1, 1, 0, 0, 0, 1, 1, 0],\n",
              "[0, 0, 0, 0, 0, 0, 0, 0, 0, 0, 0, 1, 0, 1, 0, 1, 1, 1, 0, 0, 0, 1, 1]])"
            ],
            "text/latex": "$\\displaystyle \\left[\\begin{array}{ccccccccccccccccccccccc}1 & 0 & 1 & 0 & 1 & 1 & 1 & 0 & 0 & 0 & 1 & 1 & 0 & 0 & 0 & 0 & 0 & 0 & 0 & 0 & 0 & 0 & 0\\\\0 & 1 & 0 & 1 & 0 & 1 & 1 & 1 & 0 & 0 & 0 & 1 & 1 & 0 & 0 & 0 & 0 & 0 & 0 & 0 & 0 & 0 & 0\\\\0 & 0 & 1 & 0 & 1 & 0 & 1 & 1 & 1 & 0 & 0 & 0 & 1 & 1 & 0 & 0 & 0 & 0 & 0 & 0 & 0 & 0 & 0\\\\0 & 0 & 0 & 1 & 0 & 1 & 0 & 1 & 1 & 1 & 0 & 0 & 0 & 1 & 1 & 0 & 0 & 0 & 0 & 0 & 0 & 0 & 0\\\\0 & 0 & 0 & 0 & 1 & 0 & 1 & 0 & 1 & 1 & 1 & 0 & 0 & 0 & 1 & 1 & 0 & 0 & 0 & 0 & 0 & 0 & 0\\\\0 & 0 & 0 & 0 & 0 & 1 & 0 & 1 & 0 & 1 & 1 & 1 & 0 & 0 & 0 & 1 & 1 & 0 & 0 & 0 & 0 & 0 & 0\\\\0 & 0 & 0 & 0 & 0 & 0 & 1 & 0 & 1 & 0 & 1 & 1 & 1 & 0 & 0 & 0 & 1 & 1 & 0 & 0 & 0 & 0 & 0\\\\0 & 0 & 0 & 0 & 0 & 0 & 0 & 1 & 0 & 1 & 0 & 1 & 1 & 1 & 0 & 0 & 0 & 1 & 1 & 0 & 0 & 0 & 0\\\\0 & 0 & 0 & 0 & 0 & 0 & 0 & 0 & 1 & 0 & 1 & 0 & 1 & 1 & 1 & 0 & 0 & 0 & 1 & 1 & 0 & 0 & 0\\\\0 & 0 & 0 & 0 & 0 & 0 & 0 & 0 & 0 & 1 & 0 & 1 & 0 & 1 & 1 & 1 & 0 & 0 & 0 & 1 & 1 & 0 & 0\\\\0 & 0 & 0 & 0 & 0 & 0 & 0 & 0 & 0 & 0 & 1 & 0 & 1 & 0 & 1 & 1 & 1 & 0 & 0 & 0 & 1 & 1 & 0\\\\0 & 0 & 0 & 0 & 0 & 0 & 0 & 0 & 0 & 0 & 0 & 1 & 0 & 1 & 0 & 1 & 1 & 1 & 0 & 0 & 0 & 1 & 1\\end{array}\\right]$"
          },
          "metadata": {}
        },
        {
          "output_type": "display_data",
          "data": {
            "text/plain": [
              "Matrix([\n",
              "[1, 0, 2, 2, 1, 1, 0, 0, 0, 0, 0],\n",
              "[0, 1, 0, 2, 2, 1, 1, 0, 0, 0, 0],\n",
              "[0, 0, 1, 0, 2, 2, 1, 1, 0, 0, 0],\n",
              "[0, 0, 0, 1, 0, 2, 2, 1, 1, 0, 0],\n",
              "[0, 0, 0, 0, 1, 0, 2, 2, 1, 1, 0],\n",
              "[0, 0, 0, 0, 0, 1, 0, 2, 2, 1, 1]])"
            ],
            "text/latex": "$\\displaystyle \\left[\\begin{array}{ccccccccccc}1 & 0 & 2 & 2 & 1 & 1 & 0 & 0 & 0 & 0 & 0\\\\0 & 1 & 0 & 2 & 2 & 1 & 1 & 0 & 0 & 0 & 0\\\\0 & 0 & 1 & 0 & 2 & 2 & 1 & 1 & 0 & 0 & 0\\\\0 & 0 & 0 & 1 & 0 & 2 & 2 & 1 & 1 & 0 & 0\\\\0 & 0 & 0 & 0 & 1 & 0 & 2 & 2 & 1 & 1 & 0\\\\0 & 0 & 0 & 0 & 0 & 1 & 0 & 2 & 2 & 1 & 1\\end{array}\\right]$"
          },
          "metadata": {}
        }
      ]
    },
    {
      "cell_type": "markdown",
      "source": [
        "Создадим массивы из векторов, закодированные с помощью кодов Голея. Начнём с функций генерации векторов, которые впоследствии закодируем, и функцию, расчитывающую расстояние Хэмминга:"
      ],
      "metadata": {
        "id": "fpIu4zSp-dsC"
      }
    },
    {
      "cell_type": "code",
      "source": [
        "def generate_binary_vector_by_number(number: int) -> Matrix:\n",
        "    # Каждое число от 0 до 2^12 можно привести в соответствие к двочиному числу длины до 12 (которое можно привести в соответствие к вектору длины 12 над полем F_2)\n",
        "    list_vector = [[]]\n",
        "    for i in range(12): # k = 12\n",
        "        list_vector[0].append(number % 2)\n",
        "        number /= 2\n",
        "    return Matrix(list_vector)\n",
        "\n",
        "\n",
        "def generate_ternary_vector_by_number(number: int) -> Matrix:\n",
        "    # Каждое число от 0 до 3^6 можно привести в соответствие к двочиному числу длины до 6 (которое можно привести в соответствие к вектору длины 6 над полем F_3)\n",
        "    list_vector = [[]]\n",
        "    for i in range(6): # k = 6\n",
        "        list_vector[0].append(number % 3)\n",
        "        number /= 3\n",
        "    return Matrix(list_vector)\n",
        "\n",
        "\n",
        "def get_distance(x: Matrix, y: Matrix) -> int:  # Функция, вычисляющая расстояние\n",
        "    dist = 0\n",
        "    for i in range(x.cols):\n",
        "        if x[0, i] != y[0, i]:\n",
        "            dist += 1\n",
        "    return dist"
      ],
      "metadata": {
        "id": "5FrDmiDH_B0F"
      },
      "execution_count": 70,
      "outputs": []
    },
    {
      "cell_type": "markdown",
      "source": [
        "Теперь соберём массивы из сообщений:"
      ],
      "metadata": {
        "id": "dm9jtnbdE4e6"
      }
    },
    {
      "cell_type": "code",
      "source": [
        "binary_messages = []\n",
        "ternary_messages = []\n",
        "\n",
        "for i in range(2 ** 12): # Общее число\n",
        "    binary_messages.append(generate_binary_vector_by_number(i) * binary_golay_code)\n",
        "    rows, cols = binary_messages[-1].shape\n",
        "    for i in range(rows):\n",
        "        for j in range(cols):\n",
        "            binary_messages[-1][i, j] %= 2\n",
        "\n",
        "for i in range(3 ** 6):\n",
        "    ternary_messages.append(generate_ternary_vector_by_number(i) * ternary_golay_code)\n",
        "    rows, cols = ternary_messages[-1].shape\n",
        "    for i in range(rows):\n",
        "        for j in range(cols):\n",
        "            ternary_messages[-1][i, j] %= 3"
      ],
      "metadata": {
        "id": "A8y2IG9OFzUp"
      },
      "execution_count": 74,
      "outputs": []
    },
    {
      "cell_type": "markdown",
      "source": [
        "Теперь переберем пары векторов, посчитаем расстояние между ними и получим минимальные расстояния:"
      ],
      "metadata": {
        "id": "Ra6QojxvH8cV"
      }
    },
    {
      "cell_type": "code",
      "source": [
        "binary_min_dist = 23\n",
        "ternary_min_dist = 11\n",
        "\n",
        "for i in range(len(ternary_messages)):\n",
        "    for j in range(i):\n",
        "        dist = get_distance(ternary_messages[i], ternary_messages[j])\n",
        "        if dist < ternary_min_dist:\n",
        "            ternary_min_dist = dist\n",
        "\n",
        "for i in range(len(binary_messages)):\n",
        "    for j in range(i):\n",
        "        dist = get_distance(binary_messages[i], binary_messages[j])\n",
        "        if dist < binary_min_dist:\n",
        "            binary_min_dist = dist\n",
        "\n",
        "display(\"Минимальное расстояние Хэмминга для бинарного кода Голея равно \", binary_min_dist)\n",
        "display(\"Минимальное расстояние Хэмминга для тернарного кода Голея равно \", ternary_min_dist)"
      ],
      "metadata": {
        "colab": {
          "base_uri": "https://localhost:8080/",
          "height": 89
        },
        "id": "uunugkkQIFYU",
        "outputId": "846e1a3f-de69-41c2-e67f-801ce39b0107"
      },
      "execution_count": 75,
      "outputs": [
        {
          "output_type": "display_data",
          "data": {
            "text/plain": [
              "'Минимальное расстояние Хэмминга для бинарного кода Голея равно '"
            ],
            "application/vnd.google.colaboratory.intrinsic+json": {
              "type": "string"
            }
          },
          "metadata": {}
        },
        {
          "output_type": "display_data",
          "data": {
            "text/plain": [
              "7"
            ]
          },
          "metadata": {}
        },
        {
          "output_type": "display_data",
          "data": {
            "text/plain": [
              "'Минимальное расстояние Хэмминга для тернарного кода Голея равно '"
            ],
            "application/vnd.google.colaboratory.intrinsic+json": {
              "type": "string"
            }
          },
          "metadata": {}
        },
        {
          "output_type": "display_data",
          "data": {
            "text/plain": [
              "5"
            ]
          },
          "metadata": {}
        }
      ]
    }
  ]
}
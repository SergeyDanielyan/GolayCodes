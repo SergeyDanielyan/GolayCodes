{
  "nbformat": 4,
  "nbformat_minor": 0,
  "metadata": {
    "colab": {
      "provenance": []
    },
    "kernelspec": {
      "name": "python3",
      "display_name": "Python 3"
    },
    "language_info": {
      "name": "python"
    }
  },
  "cells": [
    {
      "cell_type": "markdown",
      "source": [
        "# **Вывод минимальных расстояний для бинарного и тернарного кодов Голея**\n",
        "\n"
      ],
      "metadata": {
        "id": "3P1ZWTV6rSN2"
      }
    },
    {
      "cell_type": "code",
      "source": [
        "import sympy as sp\n",
        "from sympy import Matrix"
      ],
      "metadata": {
        "id": "rGvpCczf5wCk"
      },
      "execution_count": null,
      "outputs": []
    },
    {
      "cell_type": "markdown",
      "source": [
        "Создадим матрицы, являющиеся образующими для кодов Голея:"
      ],
      "metadata": {
        "id": "g1GmKWOu5wRQ"
      }
    },
    {
      "cell_type": "code",
      "source": [
        "binary_golay_code = Matrix([[1,0,1,0,1,1,1,0,0,0,1,1,0,0,0,0,0,0,0,0,0,0,0],\n",
        "                            [0,1,0,1,0,1,1,1,0,0,0,1,1,0,0,0,0,0,0,0,0,0,0],\n",
        "                            [0,0,1,0,1,0,1,1,1,0,0,0,1,1,0,0,0,0,0,0,0,0,0],\n",
        "                            [0,0,0,1,0,1,0,1,1,1,0,0,0,1,1,0,0,0,0,0,0,0,0],\n",
        "                            [0,0,0,0,1,0,1,0,1,1,1,0,0,0,1,1,0,0,0,0,0,0,0],\n",
        "                            [0,0,0,0,0,1,0,1,0,1,1,1,0,0,0,1,1,0,0,0,0,0,0],\n",
        "                            [0,0,0,0,0,0,1,0,1,0,1,1,1,0,0,0,1,1,0,0,0,0,0],\n",
        "                            [0,0,0,0,0,0,0,1,0,1,0,1,1,1,0,0,0,1,1,0,0,0,0],\n",
        "                            [0,0,0,0,0,0,0,0,1,0,1,0,1,1,1,0,0,0,1,1,0,0,0],\n",
        "                            [0,0,0,0,0,0,0,0,0,1,0,1,0,1,1,1,0,0,0,1,1,0,0],\n",
        "                            [0,0,0,0,0,0,0,0,0,0,1,0,1,0,1,1,1,0,0,0,1,1,0],\n",
        "                            [0,0,0,0,0,0,0,0,0,0,0,1,0,1,0,1,1,1,0,0,0,1,1]])\n",
        "ternary_golay_code = Matrix([[1, 0, 2, 2, 1, 1, 0, 0, 0, 0, 0],\n",
        "                             [0, 1, 0, 2, 2, 1, 1, 0, 0, 0, 0],\n",
        "                             [0, 0, 1, 0, 2, 2, 1, 1, 0, 0, 0],\n",
        "                             [0, 0, 0, 1, 0, 2, 2, 1, 1, 0, 0],\n",
        "                             [0, 0, 0, 0, 1, 0, 2, 2, 1, 1, 0],\n",
        "                             [0, 0, 0, 0, 0, 1, 0, 2, 2, 1, 1]])\n",
        "display(binary_golay_code, ternary_golay_code)"
      ],
      "metadata": {
        "colab": {
          "base_uri": "https://localhost:8080/",
          "height": 383
        },
        "id": "YGRu_qJB57qV",
        "outputId": "dbca3b27-45c3-48a7-b133-5d7e2d039554"
      },
      "execution_count": null,
      "outputs": [
        {
          "output_type": "display_data",
          "data": {
            "text/plain": [
              "Matrix([\n",
              "[1, 0, 1, 0, 1, 1, 1, 0, 0, 0, 1, 1, 0, 0, 0, 0, 0, 0, 0, 0, 0, 0, 0],\n",
              "[0, 1, 0, 1, 0, 1, 1, 1, 0, 0, 0, 1, 1, 0, 0, 0, 0, 0, 0, 0, 0, 0, 0],\n",
              "[0, 0, 1, 0, 1, 0, 1, 1, 1, 0, 0, 0, 1, 1, 0, 0, 0, 0, 0, 0, 0, 0, 0],\n",
              "[0, 0, 0, 1, 0, 1, 0, 1, 1, 1, 0, 0, 0, 1, 1, 0, 0, 0, 0, 0, 0, 0, 0],\n",
              "[0, 0, 0, 0, 1, 0, 1, 0, 1, 1, 1, 0, 0, 0, 1, 1, 0, 0, 0, 0, 0, 0, 0],\n",
              "[0, 0, 0, 0, 0, 1, 0, 1, 0, 1, 1, 1, 0, 0, 0, 1, 1, 0, 0, 0, 0, 0, 0],\n",
              "[0, 0, 0, 0, 0, 0, 1, 0, 1, 0, 1, 1, 1, 0, 0, 0, 1, 1, 0, 0, 0, 0, 0],\n",
              "[0, 0, 0, 0, 0, 0, 0, 1, 0, 1, 0, 1, 1, 1, 0, 0, 0, 1, 1, 0, 0, 0, 0],\n",
              "[0, 0, 0, 0, 0, 0, 0, 0, 1, 0, 1, 0, 1, 1, 1, 0, 0, 0, 1, 1, 0, 0, 0],\n",
              "[0, 0, 0, 0, 0, 0, 0, 0, 0, 1, 0, 1, 0, 1, 1, 1, 0, 0, 0, 1, 1, 0, 0],\n",
              "[0, 0, 0, 0, 0, 0, 0, 0, 0, 0, 1, 0, 1, 0, 1, 1, 1, 0, 0, 0, 1, 1, 0],\n",
              "[0, 0, 0, 0, 0, 0, 0, 0, 0, 0, 0, 1, 0, 1, 0, 1, 1, 1, 0, 0, 0, 1, 1]])"
            ],
            "text/latex": "$\\displaystyle \\left[\\begin{array}{ccccccccccccccccccccccc}1 & 0 & 1 & 0 & 1 & 1 & 1 & 0 & 0 & 0 & 1 & 1 & 0 & 0 & 0 & 0 & 0 & 0 & 0 & 0 & 0 & 0 & 0\\\\0 & 1 & 0 & 1 & 0 & 1 & 1 & 1 & 0 & 0 & 0 & 1 & 1 & 0 & 0 & 0 & 0 & 0 & 0 & 0 & 0 & 0 & 0\\\\0 & 0 & 1 & 0 & 1 & 0 & 1 & 1 & 1 & 0 & 0 & 0 & 1 & 1 & 0 & 0 & 0 & 0 & 0 & 0 & 0 & 0 & 0\\\\0 & 0 & 0 & 1 & 0 & 1 & 0 & 1 & 1 & 1 & 0 & 0 & 0 & 1 & 1 & 0 & 0 & 0 & 0 & 0 & 0 & 0 & 0\\\\0 & 0 & 0 & 0 & 1 & 0 & 1 & 0 & 1 & 1 & 1 & 0 & 0 & 0 & 1 & 1 & 0 & 0 & 0 & 0 & 0 & 0 & 0\\\\0 & 0 & 0 & 0 & 0 & 1 & 0 & 1 & 0 & 1 & 1 & 1 & 0 & 0 & 0 & 1 & 1 & 0 & 0 & 0 & 0 & 0 & 0\\\\0 & 0 & 0 & 0 & 0 & 0 & 1 & 0 & 1 & 0 & 1 & 1 & 1 & 0 & 0 & 0 & 1 & 1 & 0 & 0 & 0 & 0 & 0\\\\0 & 0 & 0 & 0 & 0 & 0 & 0 & 1 & 0 & 1 & 0 & 1 & 1 & 1 & 0 & 0 & 0 & 1 & 1 & 0 & 0 & 0 & 0\\\\0 & 0 & 0 & 0 & 0 & 0 & 0 & 0 & 1 & 0 & 1 & 0 & 1 & 1 & 1 & 0 & 0 & 0 & 1 & 1 & 0 & 0 & 0\\\\0 & 0 & 0 & 0 & 0 & 0 & 0 & 0 & 0 & 1 & 0 & 1 & 0 & 1 & 1 & 1 & 0 & 0 & 0 & 1 & 1 & 0 & 0\\\\0 & 0 & 0 & 0 & 0 & 0 & 0 & 0 & 0 & 0 & 1 & 0 & 1 & 0 & 1 & 1 & 1 & 0 & 0 & 0 & 1 & 1 & 0\\\\0 & 0 & 0 & 0 & 0 & 0 & 0 & 0 & 0 & 0 & 0 & 1 & 0 & 1 & 0 & 1 & 1 & 1 & 0 & 0 & 0 & 1 & 1\\end{array}\\right]$"
          },
          "metadata": {}
        },
        {
          "output_type": "display_data",
          "data": {
            "text/plain": [
              "Matrix([\n",
              "[1, 0, 2, 2, 1, 1, 0, 0, 0, 0, 0],\n",
              "[0, 1, 0, 2, 2, 1, 1, 0, 0, 0, 0],\n",
              "[0, 0, 1, 0, 2, 2, 1, 1, 0, 0, 0],\n",
              "[0, 0, 0, 1, 0, 2, 2, 1, 1, 0, 0],\n",
              "[0, 0, 0, 0, 1, 0, 2, 2, 1, 1, 0],\n",
              "[0, 0, 0, 0, 0, 1, 0, 2, 2, 1, 1]])"
            ],
            "text/latex": "$\\displaystyle \\left[\\begin{array}{ccccccccccc}1 & 0 & 2 & 2 & 1 & 1 & 0 & 0 & 0 & 0 & 0\\\\0 & 1 & 0 & 2 & 2 & 1 & 1 & 0 & 0 & 0 & 0\\\\0 & 0 & 1 & 0 & 2 & 2 & 1 & 1 & 0 & 0 & 0\\\\0 & 0 & 0 & 1 & 0 & 2 & 2 & 1 & 1 & 0 & 0\\\\0 & 0 & 0 & 0 & 1 & 0 & 2 & 2 & 1 & 1 & 0\\\\0 & 0 & 0 & 0 & 0 & 1 & 0 & 2 & 2 & 1 & 1\\end{array}\\right]$"
          },
          "metadata": {}
        }
      ]
    },
    {
      "cell_type": "markdown",
      "source": [
        "Создадим массивы из векторов, закодированные с помощью кодов Голея. Начнём с функций генерации векторов, которые впоследствии закодируем, и функцию, расчитывающую расстояние Хэмминга:"
      ],
      "metadata": {
        "id": "fpIu4zSp-dsC"
      }
    },
    {
      "cell_type": "code",
      "source": [
        "def generate_binary_vector_by_number(number: int) -> Matrix:\n",
        "    # Каждое число от 0 до 2^12 можно привести в соответствие к двочиному числу длины до 12 (которое можно привести в соответствие к вектору длины 12 над полем F_2)\n",
        "    list_vector = [[]]\n",
        "    for i in range(12): # k = 12\n",
        "        list_vector[0].append(number % 2)\n",
        "        number /= 2\n",
        "    return Matrix(list_vector)\n",
        "\n",
        "\n",
        "def generate_ternary_vector_by_number(number: int) -> Matrix:\n",
        "    # Каждое число от 0 до 3^6 можно привести в соответствие к двочиному числу длины до 6 (которое можно привести в соответствие к вектору длины 6 над полем F_3)\n",
        "    list_vector = [[]]\n",
        "    for i in range(6): # k = 6\n",
        "        list_vector[0].append(number % 3)\n",
        "        number /= 3\n",
        "    return Matrix(list_vector)\n",
        "\n",
        "\n",
        "def get_distance(x: Matrix, y: Matrix) -> int:  # Функция, вычисляющая расстояние\n",
        "    dist = 0\n",
        "    for i in range(x.cols):\n",
        "        if x[0, i] != y[0, i]:\n",
        "            dist += 1\n",
        "    return dist"
      ],
      "metadata": {
        "id": "5FrDmiDH_B0F"
      },
      "execution_count": null,
      "outputs": []
    },
    {
      "cell_type": "markdown",
      "source": [
        "Теперь соберём массивы из сообщений:"
      ],
      "metadata": {
        "id": "dm9jtnbdE4e6"
      }
    },
    {
      "cell_type": "code",
      "source": [
        "binary_messages = []\n",
        "ternary_messages = []\n",
        "\n",
        "for i in range(2 ** 12): # Общее число\n",
        "    binary_messages.append(generate_binary_vector_by_number(i) * binary_golay_code)\n",
        "    rows, cols = binary_messages[-1].shape\n",
        "    for i in range(rows):\n",
        "        for j in range(cols):\n",
        "            binary_messages[-1][i, j] %= 2\n",
        "\n",
        "for i in range(3 ** 6):\n",
        "    ternary_messages.append(generate_ternary_vector_by_number(i) * ternary_golay_code)\n",
        "    rows, cols = ternary_messages[-1].shape\n",
        "    for i in range(rows):\n",
        "        for j in range(cols):\n",
        "            ternary_messages[-1][i, j] %= 3"
      ],
      "metadata": {
        "id": "A8y2IG9OFzUp"
      },
      "execution_count": null,
      "outputs": []
    },
    {
      "cell_type": "markdown",
      "source": [
        "Теперь переберем пары векторов, посчитаем расстояние между ними и получим минимальные расстояния:"
      ],
      "metadata": {
        "id": "Ra6QojxvH8cV"
      }
    },
    {
      "cell_type": "code",
      "source": [
        "binary_min_dist = 23\n",
        "ternary_min_dist = 11\n",
        "\n",
        "for i in range(len(ternary_messages)):\n",
        "    for j in range(i):\n",
        "        dist = get_distance(ternary_messages[i], ternary_messages[j])\n",
        "        if dist < ternary_min_dist:\n",
        "            ternary_min_dist = dist\n",
        "\n",
        "for i in range(len(binary_messages)):\n",
        "    for j in range(i):\n",
        "        dist = get_distance(binary_messages[i], binary_messages[j])\n",
        "        if dist < binary_min_dist:\n",
        "            binary_min_dist = dist\n",
        "\n",
        "\n",
        "display(\"Минимальное расстояние Хэмминга для бинарного кода Голея равно \", binary_min_dist)\n",
        "display(\"Минимальное расстояние Хэмминга для тернарного кода Голея равно \", ternary_min_dist)"
      ],
      "metadata": {
        "id": "uunugkkQIFYU",
        "colab": {
          "base_uri": "https://localhost:8080/",
          "height": 89
        },
        "outputId": "85485da0-4401-4e8f-9cb9-abb33242e4aa"
      },
      "execution_count": 6,
      "outputs": [
        {
          "output_type": "display_data",
          "data": {
            "text/plain": [
              "'Минимальное расстояние Хэмминга для бинарного кода Голея равно '"
            ],
            "application/vnd.google.colaboratory.intrinsic+json": {
              "type": "string"
            }
          },
          "metadata": {}
        },
        {
          "output_type": "display_data",
          "data": {
            "text/plain": [
              "7"
            ]
          },
          "metadata": {}
        },
        {
          "output_type": "display_data",
          "data": {
            "text/plain": [
              "'Минимальное расстояние Хэмминга для тернарного кода Голея равно '"
            ],
            "application/vnd.google.colaboratory.intrinsic+json": {
              "type": "string"
            }
          },
          "metadata": {}
        },
        {
          "output_type": "display_data",
          "data": {
            "text/plain": [
              "5"
            ]
          },
          "metadata": {}
        }
      ]
    },
    {
      "cell_type": "markdown",
      "source": [
        "Теперь выведем канонические виды порождающих матриц:"
      ],
      "metadata": {
        "id": "u72-HM6QtFPk"
      }
    },
    {
      "cell_type": "code",
      "source": [
        "binary_rref_form, extra_info = binary_golay_code.rref()\n",
        "rows, cols = binary_golay_code.shape\n",
        "\n",
        "for i in range(rows):\n",
        "    for j in range(cols):\n",
        "        binary_rref_form[i, j] %= 2\n",
        "\n",
        "binary_rref_form\n",
        "\n",
        "ternary_rref_form, extra_info = ternary_golay_code.rref()\n",
        "rows, cols = ternary_golay_code.shape\n",
        "\n",
        "for i in range(rows):\n",
        "    for j in range(cols):\n",
        "        ternary_rref_form[i, j] %= 3\n",
        "\n",
        "display(binary_rref_form, ternary_rref_form)"
      ],
      "metadata": {
        "colab": {
          "base_uri": "https://localhost:8080/",
          "height": 383
        },
        "id": "p9TJvipytTzo",
        "outputId": "60fe78b7-6268-40d8-f750-c2eee912322f"
      },
      "execution_count": 7,
      "outputs": [
        {
          "output_type": "display_data",
          "data": {
            "text/plain": [
              "Matrix([\n",
              "[1, 0, 0, 0, 0, 0, 0, 0, 0, 0, 0, 0, 1, 0, 1, 0, 1, 1, 1, 0, 0, 0, 1],\n",
              "[0, 1, 0, 0, 0, 0, 0, 0, 0, 0, 0, 0, 1, 1, 1, 1, 1, 0, 0, 1, 0, 0, 1],\n",
              "[0, 0, 1, 0, 0, 0, 0, 0, 0, 0, 0, 0, 1, 1, 0, 1, 0, 0, 1, 0, 1, 0, 1],\n",
              "[0, 0, 0, 1, 0, 0, 0, 0, 0, 0, 0, 0, 1, 1, 0, 0, 0, 1, 1, 1, 0, 1, 1],\n",
              "[0, 0, 0, 0, 1, 0, 0, 0, 0, 0, 0, 0, 1, 1, 0, 0, 1, 1, 0, 1, 1, 0, 0],\n",
              "[0, 0, 0, 0, 0, 1, 0, 0, 0, 0, 0, 0, 0, 1, 1, 0, 0, 1, 1, 0, 1, 1, 0],\n",
              "[0, 0, 0, 0, 0, 0, 1, 0, 0, 0, 0, 0, 0, 0, 1, 1, 0, 0, 1, 1, 0, 1, 1],\n",
              "[0, 0, 0, 0, 0, 0, 0, 1, 0, 0, 0, 0, 1, 0, 1, 1, 0, 1, 1, 1, 1, 0, 0],\n",
              "[0, 0, 0, 0, 0, 0, 0, 0, 1, 0, 0, 0, 0, 1, 0, 1, 1, 0, 1, 1, 1, 1, 0],\n",
              "[0, 0, 0, 0, 0, 0, 0, 0, 0, 1, 0, 0, 0, 0, 1, 0, 1, 1, 0, 1, 1, 1, 1],\n",
              "[0, 0, 0, 0, 0, 0, 0, 0, 0, 0, 1, 0, 1, 0, 1, 1, 1, 0, 0, 0, 1, 1, 0],\n",
              "[0, 0, 0, 0, 0, 0, 0, 0, 0, 0, 0, 1, 0, 1, 0, 1, 1, 1, 0, 0, 0, 1, 1]])"
            ],
            "text/latex": "$\\displaystyle \\left[\\begin{array}{ccccccccccccccccccccccc}1 & 0 & 0 & 0 & 0 & 0 & 0 & 0 & 0 & 0 & 0 & 0 & 1 & 0 & 1 & 0 & 1 & 1 & 1 & 0 & 0 & 0 & 1\\\\0 & 1 & 0 & 0 & 0 & 0 & 0 & 0 & 0 & 0 & 0 & 0 & 1 & 1 & 1 & 1 & 1 & 0 & 0 & 1 & 0 & 0 & 1\\\\0 & 0 & 1 & 0 & 0 & 0 & 0 & 0 & 0 & 0 & 0 & 0 & 1 & 1 & 0 & 1 & 0 & 0 & 1 & 0 & 1 & 0 & 1\\\\0 & 0 & 0 & 1 & 0 & 0 & 0 & 0 & 0 & 0 & 0 & 0 & 1 & 1 & 0 & 0 & 0 & 1 & 1 & 1 & 0 & 1 & 1\\\\0 & 0 & 0 & 0 & 1 & 0 & 0 & 0 & 0 & 0 & 0 & 0 & 1 & 1 & 0 & 0 & 1 & 1 & 0 & 1 & 1 & 0 & 0\\\\0 & 0 & 0 & 0 & 0 & 1 & 0 & 0 & 0 & 0 & 0 & 0 & 0 & 1 & 1 & 0 & 0 & 1 & 1 & 0 & 1 & 1 & 0\\\\0 & 0 & 0 & 0 & 0 & 0 & 1 & 0 & 0 & 0 & 0 & 0 & 0 & 0 & 1 & 1 & 0 & 0 & 1 & 1 & 0 & 1 & 1\\\\0 & 0 & 0 & 0 & 0 & 0 & 0 & 1 & 0 & 0 & 0 & 0 & 1 & 0 & 1 & 1 & 0 & 1 & 1 & 1 & 1 & 0 & 0\\\\0 & 0 & 0 & 0 & 0 & 0 & 0 & 0 & 1 & 0 & 0 & 0 & 0 & 1 & 0 & 1 & 1 & 0 & 1 & 1 & 1 & 1 & 0\\\\0 & 0 & 0 & 0 & 0 & 0 & 0 & 0 & 0 & 1 & 0 & 0 & 0 & 0 & 1 & 0 & 1 & 1 & 0 & 1 & 1 & 1 & 1\\\\0 & 0 & 0 & 0 & 0 & 0 & 0 & 0 & 0 & 0 & 1 & 0 & 1 & 0 & 1 & 1 & 1 & 0 & 0 & 0 & 1 & 1 & 0\\\\0 & 0 & 0 & 0 & 0 & 0 & 0 & 0 & 0 & 0 & 0 & 1 & 0 & 1 & 0 & 1 & 1 & 1 & 0 & 0 & 0 & 1 & 1\\end{array}\\right]$"
          },
          "metadata": {}
        },
        {
          "output_type": "display_data",
          "data": {
            "text/plain": [
              "Matrix([\n",
              "[1, 0, 0, 0, 0, 0, 0, 1, 0, 1, 1],\n",
              "[0, 1, 0, 0, 0, 0, 2, 0, 2, 1, 0],\n",
              "[0, 0, 1, 0, 0, 0, 0, 2, 0, 2, 1],\n",
              "[0, 0, 0, 1, 0, 0, 2, 0, 0, 1, 1],\n",
              "[0, 0, 0, 0, 1, 0, 2, 2, 1, 1, 0],\n",
              "[0, 0, 0, 0, 0, 1, 0, 2, 2, 1, 1]])"
            ],
            "text/latex": "$\\displaystyle \\left[\\begin{array}{ccccccccccc}1 & 0 & 0 & 0 & 0 & 0 & 0 & 1 & 0 & 1 & 1\\\\0 & 1 & 0 & 0 & 0 & 0 & 2 & 0 & 2 & 1 & 0\\\\0 & 0 & 1 & 0 & 0 & 0 & 0 & 2 & 0 & 2 & 1\\\\0 & 0 & 0 & 1 & 0 & 0 & 2 & 0 & 0 & 1 & 1\\\\0 & 0 & 0 & 0 & 1 & 0 & 2 & 2 & 1 & 1 & 0\\\\0 & 0 & 0 & 0 & 0 & 1 & 0 & 2 & 2 & 1 & 1\\end{array}\\right]$"
          },
          "metadata": {}
        }
      ]
    },
    {
      "cell_type": "markdown",
      "source": [
        "Теперь получим проверочные матрицы:"
      ],
      "metadata": {
        "id": "fE4NIT0NveNb"
      }
    },
    {
      "cell_type": "code",
      "source": [
        "right_part = binary_rref_form[:, range(12, 23)]\n",
        "right_part = right_part.transpose() # На -1 не умножаем, так как в двоичной системе счисления это ничего не меняет.\n",
        "result = right_part\n",
        "B = sp.eye(11)\n",
        "for i in range(11):\n",
        "    result = result.col_insert(result.cols, B[:, i])\n",
        "\n",
        "display(result)\n",
        "\n",
        "right_part3 = ternary_rref_form[:, range(6, 11)]\n",
        "right_part3 = -right_part3.transpose()\n",
        "for i in range(right_part3.rows):\n",
        "    for j in range(right_part3.cols):\n",
        "        right_part3 %= 3\n",
        "result = right_part3\n",
        "B = sp.eye(5)\n",
        "for i in range(5):\n",
        "    result = result.col_insert(result.cols, B[:, i])\n",
        "\n",
        "display(result)"
      ],
      "metadata": {
        "colab": {
          "base_uri": "https://localhost:8080/",
          "height": 342
        },
        "id": "bPINHJ4fvh5u",
        "outputId": "52222674-fafa-4a2f-ba0f-27f61cab5c13"
      },
      "execution_count": 8,
      "outputs": [
        {
          "output_type": "display_data",
          "data": {
            "text/plain": [
              "Matrix([\n",
              "[1, 1, 1, 1, 1, 0, 0, 1, 0, 0, 1, 0, 1, 0, 0, 0, 0, 0, 0, 0, 0, 0, 0],\n",
              "[0, 1, 1, 1, 1, 1, 0, 0, 1, 0, 0, 1, 0, 1, 0, 0, 0, 0, 0, 0, 0, 0, 0],\n",
              "[1, 1, 0, 0, 0, 1, 1, 1, 0, 1, 1, 0, 0, 0, 1, 0, 0, 0, 0, 0, 0, 0, 0],\n",
              "[0, 1, 1, 0, 0, 0, 1, 1, 1, 0, 1, 1, 0, 0, 0, 1, 0, 0, 0, 0, 0, 0, 0],\n",
              "[1, 1, 0, 0, 1, 0, 0, 0, 1, 1, 1, 1, 0, 0, 0, 0, 1, 0, 0, 0, 0, 0, 0],\n",
              "[1, 0, 0, 1, 1, 1, 0, 1, 0, 1, 0, 1, 0, 0, 0, 0, 0, 1, 0, 0, 0, 0, 0],\n",
              "[1, 0, 1, 1, 0, 1, 1, 1, 1, 0, 0, 0, 0, 0, 0, 0, 0, 0, 1, 0, 0, 0, 0],\n",
              "[0, 1, 0, 1, 1, 0, 1, 1, 1, 1, 0, 0, 0, 0, 0, 0, 0, 0, 0, 1, 0, 0, 0],\n",
              "[0, 0, 1, 0, 1, 1, 0, 1, 1, 1, 1, 0, 0, 0, 0, 0, 0, 0, 0, 0, 1, 0, 0],\n",
              "[0, 0, 0, 1, 0, 1, 1, 0, 1, 1, 1, 1, 0, 0, 0, 0, 0, 0, 0, 0, 0, 1, 0],\n",
              "[1, 1, 1, 1, 0, 0, 1, 0, 0, 1, 0, 1, 0, 0, 0, 0, 0, 0, 0, 0, 0, 0, 1]])"
            ],
            "text/latex": "$\\displaystyle \\left[\\begin{array}{ccccccccccccccccccccccc}1 & 1 & 1 & 1 & 1 & 0 & 0 & 1 & 0 & 0 & 1 & 0 & 1 & 0 & 0 & 0 & 0 & 0 & 0 & 0 & 0 & 0 & 0\\\\0 & 1 & 1 & 1 & 1 & 1 & 0 & 0 & 1 & 0 & 0 & 1 & 0 & 1 & 0 & 0 & 0 & 0 & 0 & 0 & 0 & 0 & 0\\\\1 & 1 & 0 & 0 & 0 & 1 & 1 & 1 & 0 & 1 & 1 & 0 & 0 & 0 & 1 & 0 & 0 & 0 & 0 & 0 & 0 & 0 & 0\\\\0 & 1 & 1 & 0 & 0 & 0 & 1 & 1 & 1 & 0 & 1 & 1 & 0 & 0 & 0 & 1 & 0 & 0 & 0 & 0 & 0 & 0 & 0\\\\1 & 1 & 0 & 0 & 1 & 0 & 0 & 0 & 1 & 1 & 1 & 1 & 0 & 0 & 0 & 0 & 1 & 0 & 0 & 0 & 0 & 0 & 0\\\\1 & 0 & 0 & 1 & 1 & 1 & 0 & 1 & 0 & 1 & 0 & 1 & 0 & 0 & 0 & 0 & 0 & 1 & 0 & 0 & 0 & 0 & 0\\\\1 & 0 & 1 & 1 & 0 & 1 & 1 & 1 & 1 & 0 & 0 & 0 & 0 & 0 & 0 & 0 & 0 & 0 & 1 & 0 & 0 & 0 & 0\\\\0 & 1 & 0 & 1 & 1 & 0 & 1 & 1 & 1 & 1 & 0 & 0 & 0 & 0 & 0 & 0 & 0 & 0 & 0 & 1 & 0 & 0 & 0\\\\0 & 0 & 1 & 0 & 1 & 1 & 0 & 1 & 1 & 1 & 1 & 0 & 0 & 0 & 0 & 0 & 0 & 0 & 0 & 0 & 1 & 0 & 0\\\\0 & 0 & 0 & 1 & 0 & 1 & 1 & 0 & 1 & 1 & 1 & 1 & 0 & 0 & 0 & 0 & 0 & 0 & 0 & 0 & 0 & 1 & 0\\\\1 & 1 & 1 & 1 & 0 & 0 & 1 & 0 & 0 & 1 & 0 & 1 & 0 & 0 & 0 & 0 & 0 & 0 & 0 & 0 & 0 & 0 & 1\\end{array}\\right]$"
          },
          "metadata": {}
        },
        {
          "output_type": "display_data",
          "data": {
            "text/plain": [
              "Matrix([\n",
              "[0, 1, 0, 1, 1, 0, 1, 0, 0, 0, 0],\n",
              "[2, 0, 1, 0, 1, 1, 0, 1, 0, 0, 0],\n",
              "[0, 1, 0, 0, 2, 1, 0, 0, 1, 0, 0],\n",
              "[2, 2, 1, 2, 2, 2, 0, 0, 0, 1, 0],\n",
              "[2, 0, 2, 2, 0, 2, 0, 0, 0, 0, 1]])"
            ],
            "text/latex": "$\\displaystyle \\left[\\begin{array}{ccccccccccc}0 & 1 & 0 & 1 & 1 & 0 & 1 & 0 & 0 & 0 & 0\\\\2 & 0 & 1 & 0 & 1 & 1 & 0 & 1 & 0 & 0 & 0\\\\0 & 1 & 0 & 0 & 2 & 1 & 0 & 0 & 1 & 0 & 0\\\\2 & 2 & 1 & 2 & 2 & 2 & 0 & 0 & 0 & 1 & 0\\\\2 & 0 & 2 & 2 & 0 & 2 & 0 & 0 & 0 & 0 & 1\\end{array}\\right]$"
          },
          "metadata": {}
        }
      ]
    },
    {
      "cell_type": "markdown",
      "source": [
        "Кодирование:"
      ],
      "metadata": {
        "id": "mumd6C9eKh2Q"
      }
    },
    {
      "cell_type": "code",
      "source": [
        "a = Matrix([[1, 2, 0, 0, 2, 1]])\n",
        "x = a * ternary_rref_form\n",
        "display(x)\n",
        "display(result * x.transpose())"
      ],
      "metadata": {
        "colab": {
          "base_uri": "https://localhost:8080/",
          "height": 140
        },
        "id": "gv96gGomKkTm",
        "outputId": "5809fef9-6a4c-421d-a495-95ef7b29dea6"
      },
      "execution_count": 9,
      "outputs": [
        {
          "output_type": "display_data",
          "data": {
            "text/plain": [
              "Matrix([[1, 2, 0, 0, 2, 1, 8, 7, 8, 6, 2]])"
            ],
            "text/latex": "$\\displaystyle \\left[\\begin{array}{ccccccccccc}1 & 2 & 0 & 0 & 2 & 1 & 8 & 7 & 8 & 6 & 2\\end{array}\\right]$"
          },
          "metadata": {}
        },
        {
          "output_type": "display_data",
          "data": {
            "text/plain": [
              "Matrix([\n",
              "[12],\n",
              "[12],\n",
              "[15],\n",
              "[18],\n",
              "[ 6]])"
            ],
            "text/latex": "$\\displaystyle \\left[\\begin{matrix}12\\\\12\\\\15\\\\18\\\\6\\end{matrix}\\right]$"
          },
          "metadata": {}
        }
      ]
    }
  ]
}